{
 "cells": [
  {
   "cell_type": "code",
   "id": "initial_id",
   "metadata": {
    "collapsed": true,
    "ExecuteTime": {
     "end_time": "2025-09-05T02:00:11.449658Z",
     "start_time": "2025-09-05T02:00:11.428495Z"
    }
   },
   "source": [
    "import pandas as pd\n",
    "\n",
    "df = pd.read_csv(\"cleaned_data.csv\")"
   ],
   "outputs": [],
   "execution_count": 5
  },
  {
   "metadata": {
    "ExecuteTime": {
     "end_time": "2025-09-05T02:00:11.852077Z",
     "start_time": "2025-09-05T02:00:11.842006Z"
    }
   },
   "cell_type": "code",
   "source": "df",
   "id": "7dacb0fe3f9df408",
   "outputs": [
    {
     "data": {
      "text/plain": [
       "     Unnamed: 0.1   grant_key  Unnamed: 0       id agency  \\\n",
       "0               0  id:1002878        1396  1002878    NSF   \n",
       "1               1  id:1004847         907  1004847    NSF   \n",
       "2               2  id:1006950         403  1006950    NSF   \n",
       "3               3  id:1007261         375  1007261    NSF   \n",
       "4               4  id:1009244        1386  1009244    NSF   \n",
       "..            ...         ...         ...      ...    ...   \n",
       "508           508   id:964517         412   964517    NSF   \n",
       "509           509   id:964613        1392   964613    NSF   \n",
       "510           510   id:964728         912   964728    NSF   \n",
       "511           511   id:966482         939   966482    NSF   \n",
       "512           512   id:969985         903   969985    NSF   \n",
       "\n",
       "                                           awardeeName  awardeeCity  \\\n",
       "0              University of Connecticut Health Center   FARMINGTON   \n",
       "1    University of North Texas Health Science Cente...   FORT WORTH   \n",
       "2      University of New Mexico Health Sciences Center  ALBUQUERQUE   \n",
       "3    Health Research Incorporated/New York State De...      MENANDS   \n",
       "4    Florida Department of Health Division of Infor...  TALLAHASSEE   \n",
       "..                                                 ...          ...   \n",
       "508  Louisiana State University Health Sciences Center  NEW ORLEANS   \n",
       "509  The University of Texas Health Science Center ...      HOUSTON   \n",
       "510         University of Toledo Health Science Campus       TOLEDO   \n",
       "511  Loyola University of Chicago, Health Sciences ...      MAYWOOD   \n",
       "512  Health Research Incorporated/New York State De...      MENANDS   \n",
       "\n",
       "    awardeeStateCode piFirstName  piLastName  ...        date   startDate  \\\n",
       "0                 CT     Raquell      Holmes  ...  2010-09-08  2010-09-01   \n",
       "1                 TX        Rita   Patterson  ...  2010-04-12  2010-04-15   \n",
       "2                 NM   Stephanie        Ruby  ...  2010-01-04  2010-02-01   \n",
       "3                 NY     Liaquat      Husain  ...  2010-09-16  2010-10-01   \n",
       "4                 FL      Kendra        Goff  ...  2010-09-29  2010-10-01   \n",
       "..               ...         ...         ...  ...         ...         ...   \n",
       "508               LA     Siqiong         Liu  ...  2010-05-04  2009-09-01   \n",
       "509               TX       Elmer    Bernstam  ...  2010-09-07  2010-09-01   \n",
       "510               OH      Robert  Blumenthal  ...  2010-03-03  2010-03-01   \n",
       "511               IL     Charles  Webber, Jr  ...  2009-12-04  2009-01-11   \n",
       "512               NY         Lei         Zhu  ...  2010-06-02  2010-06-01   \n",
       "\n",
       "        expDate fundsObligatedAmt  \\\n",
       "0    2012-08-31             98058   \n",
       "1    2011-03-31             20000   \n",
       "2    2011-01-31             30000   \n",
       "3    2015-03-31            273917   \n",
       "4    2015-09-30            143032   \n",
       "..          ...               ...   \n",
       "508  2011-08-31             55168   \n",
       "509  2015-08-31            599607   \n",
       "510  2013-08-31            569999   \n",
       "511  2012-12-31             38132   \n",
       "512  2014-05-31            555303   \n",
       "\n",
       "                                          abstractText     orgCandidate  \\\n",
       "0    Improvisational Theater for Computing Scientis...  Beaumont Health   \n",
       "1    1004847  Patterson    The Summer Bioengineerin...  Spectrum Health   \n",
       "2    Intellectual merit. Spliceosomal RNAs are thou...  Corewell Health   \n",
       "3    Particles are important in the global climate ...  Corewell Health   \n",
       "4    Project Abstract  Around the world, harmful al...  Beaumont Health   \n",
       "..                                                 ...              ...   \n",
       "508  The long-term goal of this project is to revea...  Corewell Health   \n",
       "509  A clinical data warehouse (CDW) is a repositor...  Beaumont Health   \n",
       "510  Intellectual Merit:  The biosphere is dominate...  Spectrum Health   \n",
       "511  How well can you walk and talk at the same tim...  Spectrum Health   \n",
       "512  Nitrogen oxides (NOx = NO+NO2) play a pivotal ...  Spectrum Health   \n",
       "\n",
       "         _org                  org_combo_flag org_count_flag  \\\n",
       "0    Beaumont  Beaumont & Corewell & Spectrum              3   \n",
       "1    Spectrum  Beaumont & Corewell & Spectrum              3   \n",
       "2    Corewell  Beaumont & Corewell & Spectrum              3   \n",
       "3    Corewell  Beaumont & Corewell & Spectrum              3   \n",
       "4    Beaumont  Beaumont & Corewell & Spectrum              3   \n",
       "..        ...                             ...            ...   \n",
       "508  Corewell  Beaumont & Corewell & Spectrum              3   \n",
       "509  Beaumont  Beaumont & Corewell & Spectrum              3   \n",
       "510  Spectrum  Beaumont & Corewell & Spectrum              3   \n",
       "511  Spectrum  Beaumont & Corewell & Spectrum              3   \n",
       "512  Spectrum  Beaumont & Corewell & Spectrum              3   \n",
       "\n",
       "     is_multi_org_flag  \n",
       "0                 True  \n",
       "1                 True  \n",
       "2                 True  \n",
       "3                 True  \n",
       "4                 True  \n",
       "..                 ...  \n",
       "508               True  \n",
       "509               True  \n",
       "510               True  \n",
       "511               True  \n",
       "512               True  \n",
       "\n",
       "[513 rows x 21 columns]"
      ],
      "text/html": [
       "<div>\n",
       "<style scoped>\n",
       "    .dataframe tbody tr th:only-of-type {\n",
       "        vertical-align: middle;\n",
       "    }\n",
       "\n",
       "    .dataframe tbody tr th {\n",
       "        vertical-align: top;\n",
       "    }\n",
       "\n",
       "    .dataframe thead th {\n",
       "        text-align: right;\n",
       "    }\n",
       "</style>\n",
       "<table border=\"1\" class=\"dataframe\">\n",
       "  <thead>\n",
       "    <tr style=\"text-align: right;\">\n",
       "      <th></th>\n",
       "      <th>Unnamed: 0.1</th>\n",
       "      <th>grant_key</th>\n",
       "      <th>Unnamed: 0</th>\n",
       "      <th>id</th>\n",
       "      <th>agency</th>\n",
       "      <th>awardeeName</th>\n",
       "      <th>awardeeCity</th>\n",
       "      <th>awardeeStateCode</th>\n",
       "      <th>piFirstName</th>\n",
       "      <th>piLastName</th>\n",
       "      <th>...</th>\n",
       "      <th>date</th>\n",
       "      <th>startDate</th>\n",
       "      <th>expDate</th>\n",
       "      <th>fundsObligatedAmt</th>\n",
       "      <th>abstractText</th>\n",
       "      <th>orgCandidate</th>\n",
       "      <th>_org</th>\n",
       "      <th>org_combo_flag</th>\n",
       "      <th>org_count_flag</th>\n",
       "      <th>is_multi_org_flag</th>\n",
       "    </tr>\n",
       "  </thead>\n",
       "  <tbody>\n",
       "    <tr>\n",
       "      <th>0</th>\n",
       "      <td>0</td>\n",
       "      <td>id:1002878</td>\n",
       "      <td>1396</td>\n",
       "      <td>1002878</td>\n",
       "      <td>NSF</td>\n",
       "      <td>University of Connecticut Health Center</td>\n",
       "      <td>FARMINGTON</td>\n",
       "      <td>CT</td>\n",
       "      <td>Raquell</td>\n",
       "      <td>Holmes</td>\n",
       "      <td>...</td>\n",
       "      <td>2010-09-08</td>\n",
       "      <td>2010-09-01</td>\n",
       "      <td>2012-08-31</td>\n",
       "      <td>98058</td>\n",
       "      <td>Improvisational Theater for Computing Scientis...</td>\n",
       "      <td>Beaumont Health</td>\n",
       "      <td>Beaumont</td>\n",
       "      <td>Beaumont &amp; Corewell &amp; Spectrum</td>\n",
       "      <td>3</td>\n",
       "      <td>True</td>\n",
       "    </tr>\n",
       "    <tr>\n",
       "      <th>1</th>\n",
       "      <td>1</td>\n",
       "      <td>id:1004847</td>\n",
       "      <td>907</td>\n",
       "      <td>1004847</td>\n",
       "      <td>NSF</td>\n",
       "      <td>University of North Texas Health Science Cente...</td>\n",
       "      <td>FORT WORTH</td>\n",
       "      <td>TX</td>\n",
       "      <td>Rita</td>\n",
       "      <td>Patterson</td>\n",
       "      <td>...</td>\n",
       "      <td>2010-04-12</td>\n",
       "      <td>2010-04-15</td>\n",
       "      <td>2011-03-31</td>\n",
       "      <td>20000</td>\n",
       "      <td>1004847  Patterson    The Summer Bioengineerin...</td>\n",
       "      <td>Spectrum Health</td>\n",
       "      <td>Spectrum</td>\n",
       "      <td>Beaumont &amp; Corewell &amp; Spectrum</td>\n",
       "      <td>3</td>\n",
       "      <td>True</td>\n",
       "    </tr>\n",
       "    <tr>\n",
       "      <th>2</th>\n",
       "      <td>2</td>\n",
       "      <td>id:1006950</td>\n",
       "      <td>403</td>\n",
       "      <td>1006950</td>\n",
       "      <td>NSF</td>\n",
       "      <td>University of New Mexico Health Sciences Center</td>\n",
       "      <td>ALBUQUERQUE</td>\n",
       "      <td>NM</td>\n",
       "      <td>Stephanie</td>\n",
       "      <td>Ruby</td>\n",
       "      <td>...</td>\n",
       "      <td>2010-01-04</td>\n",
       "      <td>2010-02-01</td>\n",
       "      <td>2011-01-31</td>\n",
       "      <td>30000</td>\n",
       "      <td>Intellectual merit. Spliceosomal RNAs are thou...</td>\n",
       "      <td>Corewell Health</td>\n",
       "      <td>Corewell</td>\n",
       "      <td>Beaumont &amp; Corewell &amp; Spectrum</td>\n",
       "      <td>3</td>\n",
       "      <td>True</td>\n",
       "    </tr>\n",
       "    <tr>\n",
       "      <th>3</th>\n",
       "      <td>3</td>\n",
       "      <td>id:1007261</td>\n",
       "      <td>375</td>\n",
       "      <td>1007261</td>\n",
       "      <td>NSF</td>\n",
       "      <td>Health Research Incorporated/New York State De...</td>\n",
       "      <td>MENANDS</td>\n",
       "      <td>NY</td>\n",
       "      <td>Liaquat</td>\n",
       "      <td>Husain</td>\n",
       "      <td>...</td>\n",
       "      <td>2010-09-16</td>\n",
       "      <td>2010-10-01</td>\n",
       "      <td>2015-03-31</td>\n",
       "      <td>273917</td>\n",
       "      <td>Particles are important in the global climate ...</td>\n",
       "      <td>Corewell Health</td>\n",
       "      <td>Corewell</td>\n",
       "      <td>Beaumont &amp; Corewell &amp; Spectrum</td>\n",
       "      <td>3</td>\n",
       "      <td>True</td>\n",
       "    </tr>\n",
       "    <tr>\n",
       "      <th>4</th>\n",
       "      <td>4</td>\n",
       "      <td>id:1009244</td>\n",
       "      <td>1386</td>\n",
       "      <td>1009244</td>\n",
       "      <td>NSF</td>\n",
       "      <td>Florida Department of Health Division of Infor...</td>\n",
       "      <td>TALLAHASSEE</td>\n",
       "      <td>FL</td>\n",
       "      <td>Kendra</td>\n",
       "      <td>Goff</td>\n",
       "      <td>...</td>\n",
       "      <td>2010-09-29</td>\n",
       "      <td>2010-10-01</td>\n",
       "      <td>2015-09-30</td>\n",
       "      <td>143032</td>\n",
       "      <td>Project Abstract  Around the world, harmful al...</td>\n",
       "      <td>Beaumont Health</td>\n",
       "      <td>Beaumont</td>\n",
       "      <td>Beaumont &amp; Corewell &amp; Spectrum</td>\n",
       "      <td>3</td>\n",
       "      <td>True</td>\n",
       "    </tr>\n",
       "    <tr>\n",
       "      <th>...</th>\n",
       "      <td>...</td>\n",
       "      <td>...</td>\n",
       "      <td>...</td>\n",
       "      <td>...</td>\n",
       "      <td>...</td>\n",
       "      <td>...</td>\n",
       "      <td>...</td>\n",
       "      <td>...</td>\n",
       "      <td>...</td>\n",
       "      <td>...</td>\n",
       "      <td>...</td>\n",
       "      <td>...</td>\n",
       "      <td>...</td>\n",
       "      <td>...</td>\n",
       "      <td>...</td>\n",
       "      <td>...</td>\n",
       "      <td>...</td>\n",
       "      <td>...</td>\n",
       "      <td>...</td>\n",
       "      <td>...</td>\n",
       "      <td>...</td>\n",
       "    </tr>\n",
       "    <tr>\n",
       "      <th>508</th>\n",
       "      <td>508</td>\n",
       "      <td>id:964517</td>\n",
       "      <td>412</td>\n",
       "      <td>964517</td>\n",
       "      <td>NSF</td>\n",
       "      <td>Louisiana State University Health Sciences Center</td>\n",
       "      <td>NEW ORLEANS</td>\n",
       "      <td>LA</td>\n",
       "      <td>Siqiong</td>\n",
       "      <td>Liu</td>\n",
       "      <td>...</td>\n",
       "      <td>2010-05-04</td>\n",
       "      <td>2009-09-01</td>\n",
       "      <td>2011-08-31</td>\n",
       "      <td>55168</td>\n",
       "      <td>The long-term goal of this project is to revea...</td>\n",
       "      <td>Corewell Health</td>\n",
       "      <td>Corewell</td>\n",
       "      <td>Beaumont &amp; Corewell &amp; Spectrum</td>\n",
       "      <td>3</td>\n",
       "      <td>True</td>\n",
       "    </tr>\n",
       "    <tr>\n",
       "      <th>509</th>\n",
       "      <td>509</td>\n",
       "      <td>id:964613</td>\n",
       "      <td>1392</td>\n",
       "      <td>964613</td>\n",
       "      <td>NSF</td>\n",
       "      <td>The University of Texas Health Science Center ...</td>\n",
       "      <td>HOUSTON</td>\n",
       "      <td>TX</td>\n",
       "      <td>Elmer</td>\n",
       "      <td>Bernstam</td>\n",
       "      <td>...</td>\n",
       "      <td>2010-09-07</td>\n",
       "      <td>2010-09-01</td>\n",
       "      <td>2015-08-31</td>\n",
       "      <td>599607</td>\n",
       "      <td>A clinical data warehouse (CDW) is a repositor...</td>\n",
       "      <td>Beaumont Health</td>\n",
       "      <td>Beaumont</td>\n",
       "      <td>Beaumont &amp; Corewell &amp; Spectrum</td>\n",
       "      <td>3</td>\n",
       "      <td>True</td>\n",
       "    </tr>\n",
       "    <tr>\n",
       "      <th>510</th>\n",
       "      <td>510</td>\n",
       "      <td>id:964728</td>\n",
       "      <td>912</td>\n",
       "      <td>964728</td>\n",
       "      <td>NSF</td>\n",
       "      <td>University of Toledo Health Science Campus</td>\n",
       "      <td>TOLEDO</td>\n",
       "      <td>OH</td>\n",
       "      <td>Robert</td>\n",
       "      <td>Blumenthal</td>\n",
       "      <td>...</td>\n",
       "      <td>2010-03-03</td>\n",
       "      <td>2010-03-01</td>\n",
       "      <td>2013-08-31</td>\n",
       "      <td>569999</td>\n",
       "      <td>Intellectual Merit:  The biosphere is dominate...</td>\n",
       "      <td>Spectrum Health</td>\n",
       "      <td>Spectrum</td>\n",
       "      <td>Beaumont &amp; Corewell &amp; Spectrum</td>\n",
       "      <td>3</td>\n",
       "      <td>True</td>\n",
       "    </tr>\n",
       "    <tr>\n",
       "      <th>511</th>\n",
       "      <td>511</td>\n",
       "      <td>id:966482</td>\n",
       "      <td>939</td>\n",
       "      <td>966482</td>\n",
       "      <td>NSF</td>\n",
       "      <td>Loyola University of Chicago, Health Sciences ...</td>\n",
       "      <td>MAYWOOD</td>\n",
       "      <td>IL</td>\n",
       "      <td>Charles</td>\n",
       "      <td>Webber, Jr</td>\n",
       "      <td>...</td>\n",
       "      <td>2009-12-04</td>\n",
       "      <td>2009-01-11</td>\n",
       "      <td>2012-12-31</td>\n",
       "      <td>38132</td>\n",
       "      <td>How well can you walk and talk at the same tim...</td>\n",
       "      <td>Spectrum Health</td>\n",
       "      <td>Spectrum</td>\n",
       "      <td>Beaumont &amp; Corewell &amp; Spectrum</td>\n",
       "      <td>3</td>\n",
       "      <td>True</td>\n",
       "    </tr>\n",
       "    <tr>\n",
       "      <th>512</th>\n",
       "      <td>512</td>\n",
       "      <td>id:969985</td>\n",
       "      <td>903</td>\n",
       "      <td>969985</td>\n",
       "      <td>NSF</td>\n",
       "      <td>Health Research Incorporated/New York State De...</td>\n",
       "      <td>MENANDS</td>\n",
       "      <td>NY</td>\n",
       "      <td>Lei</td>\n",
       "      <td>Zhu</td>\n",
       "      <td>...</td>\n",
       "      <td>2010-06-02</td>\n",
       "      <td>2010-06-01</td>\n",
       "      <td>2014-05-31</td>\n",
       "      <td>555303</td>\n",
       "      <td>Nitrogen oxides (NOx = NO+NO2) play a pivotal ...</td>\n",
       "      <td>Spectrum Health</td>\n",
       "      <td>Spectrum</td>\n",
       "      <td>Beaumont &amp; Corewell &amp; Spectrum</td>\n",
       "      <td>3</td>\n",
       "      <td>True</td>\n",
       "    </tr>\n",
       "  </tbody>\n",
       "</table>\n",
       "<p>513 rows × 21 columns</p>\n",
       "</div>"
      ]
     },
     "execution_count": 6,
     "metadata": {},
     "output_type": "execute_result"
    }
   ],
   "execution_count": 6
  },
  {
   "metadata": {
    "ExecuteTime": {
     "end_time": "2025-09-05T02:00:14.099177Z",
     "start_time": "2025-09-05T02:00:13.823537Z"
    }
   },
   "cell_type": "code",
   "source": [
    "import pandas as pd\n",
    "import numpy as np\n",
    "import plotly.express as px\n",
    "import plotly.graph_objects as go\n",
    "\n",
    "# =========================\n",
    "# Helpers: build flags if missing, coerce types, dedupe\n",
    "# =========================\n",
    "def normalize_org(text: str) -> str | None:\n",
    "    t = str(text).upper()\n",
    "    if \"SPECTRUM\" in t: return \"Spectrum\"\n",
    "    if \"BEAUMONT\" in t or \"BEAUMON\" in t: return \"Beaumont\"\n",
    "    if \"COREWELL\" in t: return \"Corewell\"\n",
    "    return None\n",
    "\n",
    "def make_grant_key(r):\n",
    "    v = r.get(\"id\")\n",
    "    if pd.notnull(v):\n",
    "        try: return f\"id:{int(v)}\"\n",
    "        except Exception: pass\n",
    "    return f\"title:{r.get('title','')[:150]}|start:{r.get('startDate')}|exp:{r.get('expDate')}|funds:{r.get('fundsObligatedAmt')}\"\n",
    "\n",
    "def ensure_flags(df: pd.DataFrame) -> pd.DataFrame:\n",
    "    # Parse dates\n",
    "    for c in [\"date\",\"startDate\",\"expDate\"]:\n",
    "        if c in df.columns:\n",
    "            df[c] = pd.to_datetime(df[c], errors=\"coerce\")\n",
    "\n",
    "    # grant_key\n",
    "    if \"grant_key\" not in df.columns:\n",
    "        df[\"grant_key\"] = df.apply(make_grant_key, axis=1)\n",
    "\n",
    "    # If flags exist, coerce types; else compute\n",
    "    have_combo = \"org_combo_flag\" in df.columns\n",
    "    have_count = \"org_count_flag\" in df.columns\n",
    "    have_multi = \"is_multi_org_flag\" in df.columns\n",
    "\n",
    "    if have_combo and have_count and have_multi:\n",
    "        # Coerce types from strings like '3' and 'TRUE'\n",
    "        df[\"org_count_flag\"] = pd.to_numeric(df[\"org_count_flag\"], errors=\"coerce\").fillna(0).astype(int)\n",
    "        df[\"is_multi_org_flag\"] = df[\"is_multi_org_flag\"].astype(str).str.upper().map({\"TRUE\": True, \"FALSE\": False}).fillna(df[\"org_count_flag\"] > 1)\n",
    "    else:\n",
    "        # Compute from scratch using the three orgs only\n",
    "        df[\"_org\"] = df.apply(\n",
    "            lambda r: normalize_org(f\"{r.get('orgCandidate','')} {r.get('awardeeName','')} {r.get('title','')}\"),\n",
    "            axis=1\n",
    "        )\n",
    "        combo = (\n",
    "            df.groupby(\"grant_key\")[\"_org\"]\n",
    "              .apply(lambda s: sorted([o for o in set(s) if o]))  # keep only Corewell/Spectrum/Beaumont\n",
    "              .reset_index()\n",
    "        )\n",
    "        def list_to_flag(orgs): return \" & \".join(orgs) if orgs else \"Other\"\n",
    "        combo[\"org_combo_flag\"] = combo[\"_org\"].apply(list_to_flag)\n",
    "        combo[\"org_count_flag\"] = combo[\"_org\"].apply(len).astype(int)\n",
    "        combo[\"is_multi_org_flag\"] = combo[\"org_count_flag\"] > 1\n",
    "        combo = combo.drop(columns=[\"_org\"])\n",
    "        df = df.merge(combo, on=\"grant_key\", how=\"left\")\n",
    "\n",
    "    # Deduplicate to one row per grant (first wins to avoid fund double-count)\n",
    "    df_simple = (\n",
    "        df.drop(columns=[c for c in [\"_org\",\"Unnamed: 0\"] if c in df.columns], errors=\"ignore\")\n",
    "          .sort_values(\"grant_key\")\n",
    "          .groupby(\"grant_key\", as_index=False)\n",
    "          .first()\n",
    "    )\n",
    "\n",
    "    # Numeric funds\n",
    "    if \"fundsObligatedAmt\" in df_simple.columns:\n",
    "        df_simple[\"fundsObligatedAmt\"] = pd.to_numeric(df_simple[\"fundsObligatedAmt\"], errors=\"coerce\")\n",
    "\n",
    "    # Fill missing flags\n",
    "    df_simple[\"org_combo_flag\"] = df_simple[\"org_combo_flag\"].fillna(\"Other\")\n",
    "    df_simple[\"org_count_flag\"] = df_simple[\"org_count_flag\"].fillna(0).astype(int)\n",
    "    df_simple[\"is_multi_org_flag\"] = df_simple[\"is_multi_org_flag\"].fillna(df_simple[\"org_count_flag\"] > 1)\n",
    "\n",
    "    return df_simple\n",
    "\n",
    "# >>> Run after you've read your df\n",
    "df_simple = ensure_flags(df)\n",
    "\n",
    "# =========================\n",
    "# Visualizations\n",
    "# =========================\n",
    "figs = []\n",
    "\n",
    "# A) By org_combo_flag\n",
    "combo_agg = (\n",
    "    df_simple.groupby(\"org_combo_flag\", as_index=False)\n",
    "             .agg(total_funds=(\"fundsObligatedAmt\",\"sum\"),\n",
    "                  n_grants=(\"grant_key\",\"count\"))\n",
    "             .sort_values(\"total_funds\", ascending=False)\n",
    ")\n",
    "fig_combo_funds = px.bar(\n",
    "    combo_agg, x=\"org_combo_flag\", y=\"total_funds\", text=\"total_funds\",\n",
    "    title=\"Total Funds by org_combo_flag\",\n",
    "    labels={\"org_combo_flag\":\"\",\"total_funds\":\"Total Funds ($)\"}\n",
    ")\n",
    "fig_combo_funds.update_traces(texttemplate=\"%{text:,}\", textposition=\"outside\")\n",
    "figs.append((\"Total Funds by org_combo_flag\", fig_combo_funds))\n",
    "\n",
    "fig_combo_counts = px.bar(\n",
    "    combo_agg, x=\"org_combo_flag\", y=\"n_grants\", text=\"n_grants\",\n",
    "    title=\"Grant Count by org_combo_flag\",\n",
    "    labels={\"org_combo_flag\":\"\",\"n_grants\":\"# Grants\"}\n",
    ")\n",
    "fig_combo_counts.update_traces(textposition=\"outside\")\n",
    "figs.append((\"Grant Count by org_combo_flag\", fig_combo_counts))\n",
    "\n",
    "fig_combo_box = px.box(\n",
    "    df_simple, x=\"org_combo_flag\", y=\"fundsObligatedAmt\",\n",
    "    title=\"Funds Distribution by org_combo_flag\",\n",
    "    labels={\"org_combo_flag\":\"\",\"fundsObligatedAmt\":\"Funds ($)\"}\n",
    ")\n",
    "figs.append((\"Funds Distribution by org_combo_flag\", fig_combo_box))\n",
    "\n",
    "# B) By org_count_flag (1 / 2 / 3)\n",
    "count_agg = (\n",
    "    df_simple.groupby(\"org_count_flag\", as_index=False)\n",
    "             .agg(total_funds=(\"fundsObligatedAmt\",\"sum\"),\n",
    "                  n_grants=(\"grant_key\",\"count\"))\n",
    "             .sort_values(\"org_count_flag\")\n",
    ")\n",
    "fig_count_funds = px.bar(\n",
    "    count_agg, x=\"org_count_flag\", y=\"total_funds\", text=\"total_funds\",\n",
    "    title=\"Total Funds by org_count_flag (1 / 2 / 3)\",\n",
    "    labels={\"org_count_flag\":\"org_count_flag\",\"total_funds\":\"Total Funds ($)\"}\n",
    ")\n",
    "fig_count_funds.update_traces(texttemplate=\"%{text:,}\", textposition=\"outside\")\n",
    "figs.append((\"Total Funds by org_count_flag\", fig_count_funds))\n",
    "\n",
    "fig_count_counts = px.bar(\n",
    "    count_agg, x=\"org_count_flag\", y=\"n_grants\", text=\"n_grants\",\n",
    "    title=\"Grant Count by org_count_flag (1 / 2 / 3)\",\n",
    "    labels={\"org_count_flag\":\"org_count_flag\",\"n_grants\":\"# Grants\"}\n",
    ")\n",
    "fig_count_counts.update_traces(textposition=\"outside\")\n",
    "figs.append((\"Grant Count by org_count_flag\", fig_count_counts))\n",
    "\n",
    "fig_count_pie = px.pie(\n",
    "    df_simple, names=\"org_count_flag\", values=\"fundsObligatedAmt\",\n",
    "    title=\"Share of Funds by org_count_flag\"\n",
    ")\n",
    "figs.append((\"Share of Funds by org_count_flag\", fig_count_pie))\n",
    "\n",
    "# C) Individual grants only (is_multi_org_flag == False)\n",
    "indiv = df_simple[df_simple[\"is_multi_org_flag\"] == False].copy()\n",
    "\n",
    "if not indiv.empty:\n",
    "    if {\"startDate\",\"expDate\",\"awardeeName\"}.issubset(indiv.columns):\n",
    "        fig_indiv_timeline = px.timeline(\n",
    "            indiv, x_start=\"startDate\", x_end=\"expDate\", y=\"awardeeName\",\n",
    "            color=\"org_combo_flag\",\n",
    "            hover_data=[\"title\",\"fundsObligatedAmt\",\"org_combo_flag\"],\n",
    "            title=\"Individual Grants — Timelines\"\n",
    "        )\n",
    "        fig_indiv_timeline.update_yaxes(autorange=\"reversed\")\n",
    "        figs.append((\"Individual Grants — Timelines\", fig_indiv_timeline))\n",
    "\n",
    "    if {\"startDate\",\"fundsObligatedAmt\"}.issubset(indiv.columns):\n",
    "        fig_indiv_scatter = px.scatter(\n",
    "            indiv, x=\"startDate\", y=\"fundsObligatedAmt\",\n",
    "            color=\"org_combo_flag\", hover_name=\"title\",\n",
    "            title=\"Individual Grants — Start Date vs Funds\",\n",
    "            labels={\"fundsObligatedAmt\":\"Funds ($)\",\"startDate\":\"Start Date\"}\n",
    "        )\n",
    "        figs.append((\"Individual Grants — Start vs Funds\", fig_indiv_scatter))\n",
    "\n",
    "    if {\"awardeeName\",\"fundsObligatedAmt\"}.issubset(indiv.columns):\n",
    "        fig_indiv_tree = px.treemap(\n",
    "            indiv, path=[\"org_combo_flag\",\"awardeeName\"],\n",
    "            values=\"fundsObligatedAmt\",\n",
    "            title=\"Individual Grants — Treemap (org_combo_flag → awardee)\"\n",
    "        )\n",
    "        figs.append((\"Individual Grants — Treemap\", fig_indiv_tree))\n",
    "\n",
    "    def _fmt_money(s):\n",
    "        return s.fillna(0).astype(float).map(lambda v: f\"${v:,.0f}\")\n",
    "    fig_indiv_table = go.Figure(data=[go.Table(\n",
    "        header=dict(values=[\"Grant Key\",\"Title\",\"Start\",\"End\",\"Funds\",\"Combo\"],\n",
    "                    fill_color=\"#e5ecf6\", align=\"left\"),\n",
    "        cells=dict(values=[\n",
    "            indiv.get(\"grant_key\"),\n",
    "            indiv.get(\"title\"),\n",
    "            indiv.get(\"startDate\").dt.date.astype(str) if \"startDate\" in indiv else pd.Series([\"\"]*len(indiv)),\n",
    "            indiv.get(\"expDate\").dt.date.astype(str) if \"expDate\" in indiv else pd.Series([\"\"]*len(indiv)),\n",
    "            _fmt_money(indiv.get(\"fundsObligatedAmt\")),\n",
    "            indiv.get(\"org_combo_flag\"),\n",
    "        ], align=\"left\")\n",
    "    )])\n",
    "    fig_indiv_table.update_layout(title=\"Individual Grants — Table\")\n",
    "    figs.append((\"Individual Grants — Table\", fig_indiv_table))\n",
    "else:\n",
    "    note = go.Figure()\n",
    "    note.add_annotation(text=\"No individual grants found (is_multi_org_flag == False).\",\n",
    "                        xref=\"paper\", yref=\"paper\", x=0.5, y=0.5, showarrow=False)\n",
    "    note.update_layout(title=\"Individual Grants — None\")\n",
    "    figs.append((\"Individual Grants — None\", note))\n",
    "\n",
    "# =========================\n",
    "# Save one HTML\n",
    "# =========================\n",
    "out_path = \"org_combo_and_individual_grants.html\"\n",
    "with open(out_path, \"w\", encoding=\"utf-8\") as f:\n",
    "    f.write(\"\"\"<!DOCTYPE html>\n",
    "<html lang=\"en\"><head><meta charset=\"utf-8\">\n",
    "<title>Org Combo & Individual Grants — Plotly Report</title>\n",
    "<style>\n",
    "body{font-family:system-ui,-apple-system,Segoe UI,Roboto,Ubuntu;max-width:1100px;margin:2rem auto;padding:0 1rem}\n",
    "h1{margin-top:0} h2{margin:2rem 0 .75rem}\n",
    "</style></head><body>\n",
    "<h1>Org Combo & Individual Grants — Plotly Report</h1>\n",
    "\"\"\")\n",
    "    for i,(title,fig) in enumerate(figs):\n",
    "        f.write(f\"<h2>{i+1}. {title}</h2>\")\n",
    "        f.write(fig.to_html(full_html=False, include_plotlyjs=(\"cdn\" if i==0 else False)))\n",
    "        f.write(\"<hr/>\")\n",
    "    f.write(\"</body></html>\")\n",
    "\n",
    "print(f\"Saved {out_path}\")"
   ],
   "id": "909b502dd8ed841f",
   "outputs": [
    {
     "name": "stdout",
     "output_type": "stream",
     "text": [
      "Saved org_combo_and_individual_grants.html\n"
     ]
    }
   ],
   "execution_count": 7
  },
  {
   "metadata": {
    "ExecuteTime": {
     "end_time": "2025-09-05T02:09:33.729407Z",
     "start_time": "2025-09-05T02:09:33.517208Z"
    }
   },
   "cell_type": "code",
   "source": [
    "import pandas as pd\n",
    "import plotly.express as px\n",
    "\n",
    "# Assumes df_simple has 'startDate' (or 'date') and 'org_combo_flag'\n",
    "df_plot = df_simple.copy()\n",
    "\n",
    "# --- pick a date column ---\n",
    "for c in [\"startDate\", \"date\"]:\n",
    "    if c in df_plot.columns:\n",
    "        df_plot[c] = pd.to_datetime(df_plot[c], errors=\"coerce\")\n",
    "date_col = \"startDate\" if \"startDate\" in df_plot.columns else \"date\"\n",
    "\n",
    "# --- extract year ---\n",
    "df_plot = df_plot.dropna(subset=[date_col])\n",
    "df_plot[\"year\"] = df_plot[date_col].dt.year\n",
    "df_plot[\"org_combo_flag\"] = df_plot[\"org_combo_flag\"].fillna(\"Other\")\n",
    "\n",
    "# --- aggregate: count grants per year & combo ---\n",
    "counts = (\n",
    "    df_plot.groupby([\"year\",\"org_combo_flag\"], as_index=False)\n",
    "           .agg(n_grants=(\"grant_key\",\"count\"))\n",
    ")\n",
    "\n",
    "# --- line plot ---\n",
    "fig = px.line(\n",
    "    counts,\n",
    "    x=\"year\",\n",
    "    y=\"n_grants\",\n",
    "    color=\"org_combo_flag\",\n",
    "    markers=True,\n",
    "    title=\"Number of Grants per Year by Org Combo\",\n",
    "    labels={\"year\":\"Year\",\"n_grants\":\"# Grants\",\"org_combo_flag\":\"Org Combo\"}\n",
    ")\n",
    "\n",
    "fig.update_layout(\n",
    "    xaxis=dict(dtick=1),  # show every year\n",
    "    xaxis_title=\"Year\",\n",
    "    yaxis_title=\"# Grants\",\n",
    "    legend_title=\"Org Combo\"\n",
    ")\n",
    "\n",
    "fig.show()\n",
    "\n",
    "# optional: save HTML\n",
    "with open(\"grants_per_year_by_org_combo.html\",\"w\",encoding=\"utf-8\") as f:\n",
    "    f.write(fig.to_html(full_html=True, include_plotlyjs=\"cdn\"))\n",
    "\n",
    "print(\"Saved grants_per_year_by_org_combo.html\")"
   ],
   "id": "d9df5bbb57ee255f",
   "outputs": [
    {
     "data": {
      "application/vnd.plotly.v1+json": {
       "data": [
        {
         "hovertemplate": "Org Combo=Beaumont & Corewell & Spectrum<br>Year=%{x}<br># Grants=%{y}<extra></extra>",
         "legendgroup": "Beaumont & Corewell & Spectrum",
         "line": {
          "color": "#636efa",
          "dash": "solid"
         },
         "marker": {
          "symbol": "circle"
         },
         "mode": "lines+markers",
         "name": "Beaumont & Corewell & Spectrum",
         "orientation": "v",
         "showlegend": true,
         "x": [
          2005,
          2006,
          2007,
          2008,
          2009,
          2010,
          2011,
          2012,
          2013,
          2014,
          2015,
          2016,
          2017,
          2018,
          2019,
          2020,
          2021,
          2022,
          2023,
          2024,
          2025
         ],
         "xaxis": "x",
         "y": [
          5,
          23,
          26,
          18,
          24,
          33,
          25,
          13,
          27,
          21,
          29,
          32,
          27,
          27,
          23,
          23,
          29,
          25,
          21,
          35,
          9
         ],
         "yaxis": "y",
         "type": "scatter"
        },
        {
         "hovertemplate": "Org Combo=Spectrum<br>Year=%{x}<br># Grants=%{y}<extra></extra>",
         "legendgroup": "Spectrum",
         "line": {
          "color": "#EF553B",
          "dash": "solid"
         },
         "marker": {
          "symbol": "circle"
         },
         "mode": "lines+markers",
         "name": "Spectrum",
         "orientation": "v",
         "showlegend": true,
         "x": [
          2008,
          2009,
          2010,
          2011,
          2012,
          2013,
          2014,
          2015,
          2016,
          2022
         ],
         "xaxis": "x",
         "y": [
          1,
          2,
          1,
          2,
          2,
          1,
          2,
          1,
          1,
          1
         ],
         "yaxis": "y",
         "type": "scatter"
        },
        {
         "hovertemplate": "Org Combo=Corewell & Spectrum<br>Year=%{x}<br># Grants=%{y}<extra></extra>",
         "legendgroup": "Corewell & Spectrum",
         "line": {
          "color": "#00cc96",
          "dash": "solid"
         },
         "marker": {
          "symbol": "circle"
         },
         "mode": "lines+markers",
         "name": "Corewell & Spectrum",
         "orientation": "v",
         "showlegend": true,
         "x": [
          2009,
          2019
         ],
         "xaxis": "x",
         "y": [
          1,
          1
         ],
         "yaxis": "y",
         "type": "scatter"
        },
        {
         "hovertemplate": "Org Combo=Beaumont & Corewell<br>Year=%{x}<br># Grants=%{y}<extra></extra>",
         "legendgroup": "Beaumont & Corewell",
         "line": {
          "color": "#ab63fa",
          "dash": "solid"
         },
         "marker": {
          "symbol": "circle"
         },
         "mode": "lines+markers",
         "name": "Beaumont & Corewell",
         "orientation": "v",
         "showlegend": true,
         "x": [
          2015,
          2016
         ],
         "xaxis": "x",
         "y": [
          1,
          1
         ],
         "yaxis": "y",
         "type": "scatter"
        }
       ],
       "layout": {
        "template": {
         "data": {
          "histogram2dcontour": [
           {
            "type": "histogram2dcontour",
            "colorbar": {
             "outlinewidth": 0,
             "ticks": ""
            },
            "colorscale": [
             [
              0.0,
              "#0d0887"
             ],
             [
              0.1111111111111111,
              "#46039f"
             ],
             [
              0.2222222222222222,
              "#7201a8"
             ],
             [
              0.3333333333333333,
              "#9c179e"
             ],
             [
              0.4444444444444444,
              "#bd3786"
             ],
             [
              0.5555555555555556,
              "#d8576b"
             ],
             [
              0.6666666666666666,
              "#ed7953"
             ],
             [
              0.7777777777777778,
              "#fb9f3a"
             ],
             [
              0.8888888888888888,
              "#fdca26"
             ],
             [
              1.0,
              "#f0f921"
             ]
            ]
           }
          ],
          "choropleth": [
           {
            "type": "choropleth",
            "colorbar": {
             "outlinewidth": 0,
             "ticks": ""
            }
           }
          ],
          "histogram2d": [
           {
            "type": "histogram2d",
            "colorbar": {
             "outlinewidth": 0,
             "ticks": ""
            },
            "colorscale": [
             [
              0.0,
              "#0d0887"
             ],
             [
              0.1111111111111111,
              "#46039f"
             ],
             [
              0.2222222222222222,
              "#7201a8"
             ],
             [
              0.3333333333333333,
              "#9c179e"
             ],
             [
              0.4444444444444444,
              "#bd3786"
             ],
             [
              0.5555555555555556,
              "#d8576b"
             ],
             [
              0.6666666666666666,
              "#ed7953"
             ],
             [
              0.7777777777777778,
              "#fb9f3a"
             ],
             [
              0.8888888888888888,
              "#fdca26"
             ],
             [
              1.0,
              "#f0f921"
             ]
            ]
           }
          ],
          "heatmap": [
           {
            "type": "heatmap",
            "colorbar": {
             "outlinewidth": 0,
             "ticks": ""
            },
            "colorscale": [
             [
              0.0,
              "#0d0887"
             ],
             [
              0.1111111111111111,
              "#46039f"
             ],
             [
              0.2222222222222222,
              "#7201a8"
             ],
             [
              0.3333333333333333,
              "#9c179e"
             ],
             [
              0.4444444444444444,
              "#bd3786"
             ],
             [
              0.5555555555555556,
              "#d8576b"
             ],
             [
              0.6666666666666666,
              "#ed7953"
             ],
             [
              0.7777777777777778,
              "#fb9f3a"
             ],
             [
              0.8888888888888888,
              "#fdca26"
             ],
             [
              1.0,
              "#f0f921"
             ]
            ]
           }
          ],
          "heatmapgl": [
           {
            "type": "heatmapgl",
            "colorbar": {
             "outlinewidth": 0,
             "ticks": ""
            },
            "colorscale": [
             [
              0.0,
              "#0d0887"
             ],
             [
              0.1111111111111111,
              "#46039f"
             ],
             [
              0.2222222222222222,
              "#7201a8"
             ],
             [
              0.3333333333333333,
              "#9c179e"
             ],
             [
              0.4444444444444444,
              "#bd3786"
             ],
             [
              0.5555555555555556,
              "#d8576b"
             ],
             [
              0.6666666666666666,
              "#ed7953"
             ],
             [
              0.7777777777777778,
              "#fb9f3a"
             ],
             [
              0.8888888888888888,
              "#fdca26"
             ],
             [
              1.0,
              "#f0f921"
             ]
            ]
           }
          ],
          "contourcarpet": [
           {
            "type": "contourcarpet",
            "colorbar": {
             "outlinewidth": 0,
             "ticks": ""
            }
           }
          ],
          "contour": [
           {
            "type": "contour",
            "colorbar": {
             "outlinewidth": 0,
             "ticks": ""
            },
            "colorscale": [
             [
              0.0,
              "#0d0887"
             ],
             [
              0.1111111111111111,
              "#46039f"
             ],
             [
              0.2222222222222222,
              "#7201a8"
             ],
             [
              0.3333333333333333,
              "#9c179e"
             ],
             [
              0.4444444444444444,
              "#bd3786"
             ],
             [
              0.5555555555555556,
              "#d8576b"
             ],
             [
              0.6666666666666666,
              "#ed7953"
             ],
             [
              0.7777777777777778,
              "#fb9f3a"
             ],
             [
              0.8888888888888888,
              "#fdca26"
             ],
             [
              1.0,
              "#f0f921"
             ]
            ]
           }
          ],
          "surface": [
           {
            "type": "surface",
            "colorbar": {
             "outlinewidth": 0,
             "ticks": ""
            },
            "colorscale": [
             [
              0.0,
              "#0d0887"
             ],
             [
              0.1111111111111111,
              "#46039f"
             ],
             [
              0.2222222222222222,
              "#7201a8"
             ],
             [
              0.3333333333333333,
              "#9c179e"
             ],
             [
              0.4444444444444444,
              "#bd3786"
             ],
             [
              0.5555555555555556,
              "#d8576b"
             ],
             [
              0.6666666666666666,
              "#ed7953"
             ],
             [
              0.7777777777777778,
              "#fb9f3a"
             ],
             [
              0.8888888888888888,
              "#fdca26"
             ],
             [
              1.0,
              "#f0f921"
             ]
            ]
           }
          ],
          "mesh3d": [
           {
            "type": "mesh3d",
            "colorbar": {
             "outlinewidth": 0,
             "ticks": ""
            }
           }
          ],
          "scatter": [
           {
            "marker": {
             "line": {
              "color": "#283442"
             }
            },
            "type": "scatter"
           }
          ],
          "parcoords": [
           {
            "type": "parcoords",
            "line": {
             "colorbar": {
              "outlinewidth": 0,
              "ticks": ""
             }
            }
           }
          ],
          "scatterpolargl": [
           {
            "type": "scatterpolargl",
            "marker": {
             "colorbar": {
              "outlinewidth": 0,
              "ticks": ""
             }
            }
           }
          ],
          "bar": [
           {
            "error_x": {
             "color": "#f2f5fa"
            },
            "error_y": {
             "color": "#f2f5fa"
            },
            "marker": {
             "line": {
              "color": "rgb(17,17,17)",
              "width": 0.5
             },
             "pattern": {
              "fillmode": "overlay",
              "size": 10,
              "solidity": 0.2
             }
            },
            "type": "bar"
           }
          ],
          "scattergeo": [
           {
            "type": "scattergeo",
            "marker": {
             "colorbar": {
              "outlinewidth": 0,
              "ticks": ""
             }
            }
           }
          ],
          "scatterpolar": [
           {
            "type": "scatterpolar",
            "marker": {
             "colorbar": {
              "outlinewidth": 0,
              "ticks": ""
             }
            }
           }
          ],
          "histogram": [
           {
            "marker": {
             "pattern": {
              "fillmode": "overlay",
              "size": 10,
              "solidity": 0.2
             }
            },
            "type": "histogram"
           }
          ],
          "scattergl": [
           {
            "marker": {
             "line": {
              "color": "#283442"
             }
            },
            "type": "scattergl"
           }
          ],
          "scatter3d": [
           {
            "type": "scatter3d",
            "line": {
             "colorbar": {
              "outlinewidth": 0,
              "ticks": ""
             }
            },
            "marker": {
             "colorbar": {
              "outlinewidth": 0,
              "ticks": ""
             }
            }
           }
          ],
          "scattermapbox": [
           {
            "type": "scattermapbox",
            "marker": {
             "colorbar": {
              "outlinewidth": 0,
              "ticks": ""
             }
            }
           }
          ],
          "scatterternary": [
           {
            "type": "scatterternary",
            "marker": {
             "colorbar": {
              "outlinewidth": 0,
              "ticks": ""
             }
            }
           }
          ],
          "scattercarpet": [
           {
            "type": "scattercarpet",
            "marker": {
             "colorbar": {
              "outlinewidth": 0,
              "ticks": ""
             }
            }
           }
          ],
          "carpet": [
           {
            "aaxis": {
             "endlinecolor": "#A2B1C6",
             "gridcolor": "#506784",
             "linecolor": "#506784",
             "minorgridcolor": "#506784",
             "startlinecolor": "#A2B1C6"
            },
            "baxis": {
             "endlinecolor": "#A2B1C6",
             "gridcolor": "#506784",
             "linecolor": "#506784",
             "minorgridcolor": "#506784",
             "startlinecolor": "#A2B1C6"
            },
            "type": "carpet"
           }
          ],
          "table": [
           {
            "cells": {
             "fill": {
              "color": "#506784"
             },
             "line": {
              "color": "rgb(17,17,17)"
             }
            },
            "header": {
             "fill": {
              "color": "#2a3f5f"
             },
             "line": {
              "color": "rgb(17,17,17)"
             }
            },
            "type": "table"
           }
          ],
          "barpolar": [
           {
            "marker": {
             "line": {
              "color": "rgb(17,17,17)",
              "width": 0.5
             },
             "pattern": {
              "fillmode": "overlay",
              "size": 10,
              "solidity": 0.2
             }
            },
            "type": "barpolar"
           }
          ],
          "pie": [
           {
            "automargin": true,
            "type": "pie"
           }
          ]
         },
         "layout": {
          "autotypenumbers": "strict",
          "colorway": [
           "#636efa",
           "#EF553B",
           "#00cc96",
           "#ab63fa",
           "#FFA15A",
           "#19d3f3",
           "#FF6692",
           "#B6E880",
           "#FF97FF",
           "#FECB52"
          ],
          "font": {
           "color": "#f2f5fa"
          },
          "hovermode": "closest",
          "hoverlabel": {
           "align": "left"
          },
          "paper_bgcolor": "rgb(17,17,17)",
          "plot_bgcolor": "rgb(17,17,17)",
          "polar": {
           "bgcolor": "rgb(17,17,17)",
           "angularaxis": {
            "gridcolor": "#506784",
            "linecolor": "#506784",
            "ticks": ""
           },
           "radialaxis": {
            "gridcolor": "#506784",
            "linecolor": "#506784",
            "ticks": ""
           }
          },
          "ternary": {
           "bgcolor": "rgb(17,17,17)",
           "aaxis": {
            "gridcolor": "#506784",
            "linecolor": "#506784",
            "ticks": ""
           },
           "baxis": {
            "gridcolor": "#506784",
            "linecolor": "#506784",
            "ticks": ""
           },
           "caxis": {
            "gridcolor": "#506784",
            "linecolor": "#506784",
            "ticks": ""
           }
          },
          "coloraxis": {
           "colorbar": {
            "outlinewidth": 0,
            "ticks": ""
           }
          },
          "colorscale": {
           "sequential": [
            [
             0.0,
             "#0d0887"
            ],
            [
             0.1111111111111111,
             "#46039f"
            ],
            [
             0.2222222222222222,
             "#7201a8"
            ],
            [
             0.3333333333333333,
             "#9c179e"
            ],
            [
             0.4444444444444444,
             "#bd3786"
            ],
            [
             0.5555555555555556,
             "#d8576b"
            ],
            [
             0.6666666666666666,
             "#ed7953"
            ],
            [
             0.7777777777777778,
             "#fb9f3a"
            ],
            [
             0.8888888888888888,
             "#fdca26"
            ],
            [
             1.0,
             "#f0f921"
            ]
           ],
           "sequentialminus": [
            [
             0.0,
             "#0d0887"
            ],
            [
             0.1111111111111111,
             "#46039f"
            ],
            [
             0.2222222222222222,
             "#7201a8"
            ],
            [
             0.3333333333333333,
             "#9c179e"
            ],
            [
             0.4444444444444444,
             "#bd3786"
            ],
            [
             0.5555555555555556,
             "#d8576b"
            ],
            [
             0.6666666666666666,
             "#ed7953"
            ],
            [
             0.7777777777777778,
             "#fb9f3a"
            ],
            [
             0.8888888888888888,
             "#fdca26"
            ],
            [
             1.0,
             "#f0f921"
            ]
           ],
           "diverging": [
            [
             0,
             "#8e0152"
            ],
            [
             0.1,
             "#c51b7d"
            ],
            [
             0.2,
             "#de77ae"
            ],
            [
             0.3,
             "#f1b6da"
            ],
            [
             0.4,
             "#fde0ef"
            ],
            [
             0.5,
             "#f7f7f7"
            ],
            [
             0.6,
             "#e6f5d0"
            ],
            [
             0.7,
             "#b8e186"
            ],
            [
             0.8,
             "#7fbc41"
            ],
            [
             0.9,
             "#4d9221"
            ],
            [
             1,
             "#276419"
            ]
           ]
          },
          "xaxis": {
           "gridcolor": "#283442",
           "linecolor": "#506784",
           "ticks": "",
           "title": {
            "standoff": 15
           },
           "zerolinecolor": "#283442",
           "automargin": true,
           "zerolinewidth": 2
          },
          "yaxis": {
           "gridcolor": "#283442",
           "linecolor": "#506784",
           "ticks": "",
           "title": {
            "standoff": 15
           },
           "zerolinecolor": "#283442",
           "automargin": true,
           "zerolinewidth": 2
          },
          "scene": {
           "xaxis": {
            "backgroundcolor": "rgb(17,17,17)",
            "gridcolor": "#506784",
            "linecolor": "#506784",
            "showbackground": true,
            "ticks": "",
            "zerolinecolor": "#C8D4E3",
            "gridwidth": 2
           },
           "yaxis": {
            "backgroundcolor": "rgb(17,17,17)",
            "gridcolor": "#506784",
            "linecolor": "#506784",
            "showbackground": true,
            "ticks": "",
            "zerolinecolor": "#C8D4E3",
            "gridwidth": 2
           },
           "zaxis": {
            "backgroundcolor": "rgb(17,17,17)",
            "gridcolor": "#506784",
            "linecolor": "#506784",
            "showbackground": true,
            "ticks": "",
            "zerolinecolor": "#C8D4E3",
            "gridwidth": 2
           }
          },
          "shapedefaults": {
           "line": {
            "color": "#f2f5fa"
           }
          },
          "annotationdefaults": {
           "arrowcolor": "#f2f5fa",
           "arrowhead": 0,
           "arrowwidth": 1
          },
          "geo": {
           "bgcolor": "rgb(17,17,17)",
           "landcolor": "rgb(17,17,17)",
           "subunitcolor": "#506784",
           "showland": true,
           "showlakes": true,
           "lakecolor": "rgb(17,17,17)"
          },
          "title": {
           "x": 0.05
          },
          "updatemenudefaults": {
           "bgcolor": "#506784",
           "borderwidth": 0
          },
          "sliderdefaults": {
           "bgcolor": "#C8D4E3",
           "borderwidth": 1,
           "bordercolor": "rgb(17,17,17)",
           "tickwidth": 0
          },
          "mapbox": {
           "style": "dark"
          }
         }
        },
        "xaxis": {
         "anchor": "y",
         "domain": [
          0.0,
          1.0
         ],
         "title": {
          "text": "Year"
         },
         "dtick": 1
        },
        "yaxis": {
         "anchor": "x",
         "domain": [
          0.0,
          1.0
         ],
         "title": {
          "text": "# Grants"
         }
        },
        "legend": {
         "title": {
          "text": "Org Combo"
         },
         "tracegroupgap": 0
        },
        "title": {
         "text": "Number of Grants per Year by Org Combo"
        }
       },
       "config": {
        "plotlyServerURL": "https://plot.ly"
       }
      },
      "text/html": [
       "<div>                            <div id=\"b7f8a5a6-8f57-4aef-9c60-7740568d04c1\" class=\"plotly-graph-div\" style=\"height:525px; width:100%;\"></div>            <script type=\"text/javascript\">                require([\"plotly\"], function(Plotly) {                    window.PLOTLYENV=window.PLOTLYENV || {};                                    if (document.getElementById(\"b7f8a5a6-8f57-4aef-9c60-7740568d04c1\")) {                    Plotly.newPlot(                        \"b7f8a5a6-8f57-4aef-9c60-7740568d04c1\",                        [{\"hovertemplate\":\"Org Combo=Beaumont & Corewell & Spectrum\\u003cbr\\u003eYear=%{x}\\u003cbr\\u003e# Grants=%{y}\\u003cextra\\u003e\\u003c\\u002fextra\\u003e\",\"legendgroup\":\"Beaumont & Corewell & Spectrum\",\"line\":{\"color\":\"#636efa\",\"dash\":\"solid\"},\"marker\":{\"symbol\":\"circle\"},\"mode\":\"lines+markers\",\"name\":\"Beaumont & Corewell & Spectrum\",\"orientation\":\"v\",\"showlegend\":true,\"x\":[2005,2006,2007,2008,2009,2010,2011,2012,2013,2014,2015,2016,2017,2018,2019,2020,2021,2022,2023,2024,2025],\"xaxis\":\"x\",\"y\":[5,23,26,18,24,33,25,13,27,21,29,32,27,27,23,23,29,25,21,35,9],\"yaxis\":\"y\",\"type\":\"scatter\"},{\"hovertemplate\":\"Org Combo=Spectrum\\u003cbr\\u003eYear=%{x}\\u003cbr\\u003e# Grants=%{y}\\u003cextra\\u003e\\u003c\\u002fextra\\u003e\",\"legendgroup\":\"Spectrum\",\"line\":{\"color\":\"#EF553B\",\"dash\":\"solid\"},\"marker\":{\"symbol\":\"circle\"},\"mode\":\"lines+markers\",\"name\":\"Spectrum\",\"orientation\":\"v\",\"showlegend\":true,\"x\":[2008,2009,2010,2011,2012,2013,2014,2015,2016,2022],\"xaxis\":\"x\",\"y\":[1,2,1,2,2,1,2,1,1,1],\"yaxis\":\"y\",\"type\":\"scatter\"},{\"hovertemplate\":\"Org Combo=Corewell & Spectrum\\u003cbr\\u003eYear=%{x}\\u003cbr\\u003e# Grants=%{y}\\u003cextra\\u003e\\u003c\\u002fextra\\u003e\",\"legendgroup\":\"Corewell & Spectrum\",\"line\":{\"color\":\"#00cc96\",\"dash\":\"solid\"},\"marker\":{\"symbol\":\"circle\"},\"mode\":\"lines+markers\",\"name\":\"Corewell & Spectrum\",\"orientation\":\"v\",\"showlegend\":true,\"x\":[2009,2019],\"xaxis\":\"x\",\"y\":[1,1],\"yaxis\":\"y\",\"type\":\"scatter\"},{\"hovertemplate\":\"Org Combo=Beaumont & Corewell\\u003cbr\\u003eYear=%{x}\\u003cbr\\u003e# Grants=%{y}\\u003cextra\\u003e\\u003c\\u002fextra\\u003e\",\"legendgroup\":\"Beaumont & Corewell\",\"line\":{\"color\":\"#ab63fa\",\"dash\":\"solid\"},\"marker\":{\"symbol\":\"circle\"},\"mode\":\"lines+markers\",\"name\":\"Beaumont & Corewell\",\"orientation\":\"v\",\"showlegend\":true,\"x\":[2015,2016],\"xaxis\":\"x\",\"y\":[1,1],\"yaxis\":\"y\",\"type\":\"scatter\"}],                        {\"template\":{\"data\":{\"histogram2dcontour\":[{\"type\":\"histogram2dcontour\",\"colorbar\":{\"outlinewidth\":0,\"ticks\":\"\"},\"colorscale\":[[0.0,\"#0d0887\"],[0.1111111111111111,\"#46039f\"],[0.2222222222222222,\"#7201a8\"],[0.3333333333333333,\"#9c179e\"],[0.4444444444444444,\"#bd3786\"],[0.5555555555555556,\"#d8576b\"],[0.6666666666666666,\"#ed7953\"],[0.7777777777777778,\"#fb9f3a\"],[0.8888888888888888,\"#fdca26\"],[1.0,\"#f0f921\"]]}],\"choropleth\":[{\"type\":\"choropleth\",\"colorbar\":{\"outlinewidth\":0,\"ticks\":\"\"}}],\"histogram2d\":[{\"type\":\"histogram2d\",\"colorbar\":{\"outlinewidth\":0,\"ticks\":\"\"},\"colorscale\":[[0.0,\"#0d0887\"],[0.1111111111111111,\"#46039f\"],[0.2222222222222222,\"#7201a8\"],[0.3333333333333333,\"#9c179e\"],[0.4444444444444444,\"#bd3786\"],[0.5555555555555556,\"#d8576b\"],[0.6666666666666666,\"#ed7953\"],[0.7777777777777778,\"#fb9f3a\"],[0.8888888888888888,\"#fdca26\"],[1.0,\"#f0f921\"]]}],\"heatmap\":[{\"type\":\"heatmap\",\"colorbar\":{\"outlinewidth\":0,\"ticks\":\"\"},\"colorscale\":[[0.0,\"#0d0887\"],[0.1111111111111111,\"#46039f\"],[0.2222222222222222,\"#7201a8\"],[0.3333333333333333,\"#9c179e\"],[0.4444444444444444,\"#bd3786\"],[0.5555555555555556,\"#d8576b\"],[0.6666666666666666,\"#ed7953\"],[0.7777777777777778,\"#fb9f3a\"],[0.8888888888888888,\"#fdca26\"],[1.0,\"#f0f921\"]]}],\"heatmapgl\":[{\"type\":\"heatmapgl\",\"colorbar\":{\"outlinewidth\":0,\"ticks\":\"\"},\"colorscale\":[[0.0,\"#0d0887\"],[0.1111111111111111,\"#46039f\"],[0.2222222222222222,\"#7201a8\"],[0.3333333333333333,\"#9c179e\"],[0.4444444444444444,\"#bd3786\"],[0.5555555555555556,\"#d8576b\"],[0.6666666666666666,\"#ed7953\"],[0.7777777777777778,\"#fb9f3a\"],[0.8888888888888888,\"#fdca26\"],[1.0,\"#f0f921\"]]}],\"contourcarpet\":[{\"type\":\"contourcarpet\",\"colorbar\":{\"outlinewidth\":0,\"ticks\":\"\"}}],\"contour\":[{\"type\":\"contour\",\"colorbar\":{\"outlinewidth\":0,\"ticks\":\"\"},\"colorscale\":[[0.0,\"#0d0887\"],[0.1111111111111111,\"#46039f\"],[0.2222222222222222,\"#7201a8\"],[0.3333333333333333,\"#9c179e\"],[0.4444444444444444,\"#bd3786\"],[0.5555555555555556,\"#d8576b\"],[0.6666666666666666,\"#ed7953\"],[0.7777777777777778,\"#fb9f3a\"],[0.8888888888888888,\"#fdca26\"],[1.0,\"#f0f921\"]]}],\"surface\":[{\"type\":\"surface\",\"colorbar\":{\"outlinewidth\":0,\"ticks\":\"\"},\"colorscale\":[[0.0,\"#0d0887\"],[0.1111111111111111,\"#46039f\"],[0.2222222222222222,\"#7201a8\"],[0.3333333333333333,\"#9c179e\"],[0.4444444444444444,\"#bd3786\"],[0.5555555555555556,\"#d8576b\"],[0.6666666666666666,\"#ed7953\"],[0.7777777777777778,\"#fb9f3a\"],[0.8888888888888888,\"#fdca26\"],[1.0,\"#f0f921\"]]}],\"mesh3d\":[{\"type\":\"mesh3d\",\"colorbar\":{\"outlinewidth\":0,\"ticks\":\"\"}}],\"scatter\":[{\"marker\":{\"line\":{\"color\":\"#283442\"}},\"type\":\"scatter\"}],\"parcoords\":[{\"type\":\"parcoords\",\"line\":{\"colorbar\":{\"outlinewidth\":0,\"ticks\":\"\"}}}],\"scatterpolargl\":[{\"type\":\"scatterpolargl\",\"marker\":{\"colorbar\":{\"outlinewidth\":0,\"ticks\":\"\"}}}],\"bar\":[{\"error_x\":{\"color\":\"#f2f5fa\"},\"error_y\":{\"color\":\"#f2f5fa\"},\"marker\":{\"line\":{\"color\":\"rgb(17,17,17)\",\"width\":0.5},\"pattern\":{\"fillmode\":\"overlay\",\"size\":10,\"solidity\":0.2}},\"type\":\"bar\"}],\"scattergeo\":[{\"type\":\"scattergeo\",\"marker\":{\"colorbar\":{\"outlinewidth\":0,\"ticks\":\"\"}}}],\"scatterpolar\":[{\"type\":\"scatterpolar\",\"marker\":{\"colorbar\":{\"outlinewidth\":0,\"ticks\":\"\"}}}],\"histogram\":[{\"marker\":{\"pattern\":{\"fillmode\":\"overlay\",\"size\":10,\"solidity\":0.2}},\"type\":\"histogram\"}],\"scattergl\":[{\"marker\":{\"line\":{\"color\":\"#283442\"}},\"type\":\"scattergl\"}],\"scatter3d\":[{\"type\":\"scatter3d\",\"line\":{\"colorbar\":{\"outlinewidth\":0,\"ticks\":\"\"}},\"marker\":{\"colorbar\":{\"outlinewidth\":0,\"ticks\":\"\"}}}],\"scattermapbox\":[{\"type\":\"scattermapbox\",\"marker\":{\"colorbar\":{\"outlinewidth\":0,\"ticks\":\"\"}}}],\"scatterternary\":[{\"type\":\"scatterternary\",\"marker\":{\"colorbar\":{\"outlinewidth\":0,\"ticks\":\"\"}}}],\"scattercarpet\":[{\"type\":\"scattercarpet\",\"marker\":{\"colorbar\":{\"outlinewidth\":0,\"ticks\":\"\"}}}],\"carpet\":[{\"aaxis\":{\"endlinecolor\":\"#A2B1C6\",\"gridcolor\":\"#506784\",\"linecolor\":\"#506784\",\"minorgridcolor\":\"#506784\",\"startlinecolor\":\"#A2B1C6\"},\"baxis\":{\"endlinecolor\":\"#A2B1C6\",\"gridcolor\":\"#506784\",\"linecolor\":\"#506784\",\"minorgridcolor\":\"#506784\",\"startlinecolor\":\"#A2B1C6\"},\"type\":\"carpet\"}],\"table\":[{\"cells\":{\"fill\":{\"color\":\"#506784\"},\"line\":{\"color\":\"rgb(17,17,17)\"}},\"header\":{\"fill\":{\"color\":\"#2a3f5f\"},\"line\":{\"color\":\"rgb(17,17,17)\"}},\"type\":\"table\"}],\"barpolar\":[{\"marker\":{\"line\":{\"color\":\"rgb(17,17,17)\",\"width\":0.5},\"pattern\":{\"fillmode\":\"overlay\",\"size\":10,\"solidity\":0.2}},\"type\":\"barpolar\"}],\"pie\":[{\"automargin\":true,\"type\":\"pie\"}]},\"layout\":{\"autotypenumbers\":\"strict\",\"colorway\":[\"#636efa\",\"#EF553B\",\"#00cc96\",\"#ab63fa\",\"#FFA15A\",\"#19d3f3\",\"#FF6692\",\"#B6E880\",\"#FF97FF\",\"#FECB52\"],\"font\":{\"color\":\"#f2f5fa\"},\"hovermode\":\"closest\",\"hoverlabel\":{\"align\":\"left\"},\"paper_bgcolor\":\"rgb(17,17,17)\",\"plot_bgcolor\":\"rgb(17,17,17)\",\"polar\":{\"bgcolor\":\"rgb(17,17,17)\",\"angularaxis\":{\"gridcolor\":\"#506784\",\"linecolor\":\"#506784\",\"ticks\":\"\"},\"radialaxis\":{\"gridcolor\":\"#506784\",\"linecolor\":\"#506784\",\"ticks\":\"\"}},\"ternary\":{\"bgcolor\":\"rgb(17,17,17)\",\"aaxis\":{\"gridcolor\":\"#506784\",\"linecolor\":\"#506784\",\"ticks\":\"\"},\"baxis\":{\"gridcolor\":\"#506784\",\"linecolor\":\"#506784\",\"ticks\":\"\"},\"caxis\":{\"gridcolor\":\"#506784\",\"linecolor\":\"#506784\",\"ticks\":\"\"}},\"coloraxis\":{\"colorbar\":{\"outlinewidth\":0,\"ticks\":\"\"}},\"colorscale\":{\"sequential\":[[0.0,\"#0d0887\"],[0.1111111111111111,\"#46039f\"],[0.2222222222222222,\"#7201a8\"],[0.3333333333333333,\"#9c179e\"],[0.4444444444444444,\"#bd3786\"],[0.5555555555555556,\"#d8576b\"],[0.6666666666666666,\"#ed7953\"],[0.7777777777777778,\"#fb9f3a\"],[0.8888888888888888,\"#fdca26\"],[1.0,\"#f0f921\"]],\"sequentialminus\":[[0.0,\"#0d0887\"],[0.1111111111111111,\"#46039f\"],[0.2222222222222222,\"#7201a8\"],[0.3333333333333333,\"#9c179e\"],[0.4444444444444444,\"#bd3786\"],[0.5555555555555556,\"#d8576b\"],[0.6666666666666666,\"#ed7953\"],[0.7777777777777778,\"#fb9f3a\"],[0.8888888888888888,\"#fdca26\"],[1.0,\"#f0f921\"]],\"diverging\":[[0,\"#8e0152\"],[0.1,\"#c51b7d\"],[0.2,\"#de77ae\"],[0.3,\"#f1b6da\"],[0.4,\"#fde0ef\"],[0.5,\"#f7f7f7\"],[0.6,\"#e6f5d0\"],[0.7,\"#b8e186\"],[0.8,\"#7fbc41\"],[0.9,\"#4d9221\"],[1,\"#276419\"]]},\"xaxis\":{\"gridcolor\":\"#283442\",\"linecolor\":\"#506784\",\"ticks\":\"\",\"title\":{\"standoff\":15},\"zerolinecolor\":\"#283442\",\"automargin\":true,\"zerolinewidth\":2},\"yaxis\":{\"gridcolor\":\"#283442\",\"linecolor\":\"#506784\",\"ticks\":\"\",\"title\":{\"standoff\":15},\"zerolinecolor\":\"#283442\",\"automargin\":true,\"zerolinewidth\":2},\"scene\":{\"xaxis\":{\"backgroundcolor\":\"rgb(17,17,17)\",\"gridcolor\":\"#506784\",\"linecolor\":\"#506784\",\"showbackground\":true,\"ticks\":\"\",\"zerolinecolor\":\"#C8D4E3\",\"gridwidth\":2},\"yaxis\":{\"backgroundcolor\":\"rgb(17,17,17)\",\"gridcolor\":\"#506784\",\"linecolor\":\"#506784\",\"showbackground\":true,\"ticks\":\"\",\"zerolinecolor\":\"#C8D4E3\",\"gridwidth\":2},\"zaxis\":{\"backgroundcolor\":\"rgb(17,17,17)\",\"gridcolor\":\"#506784\",\"linecolor\":\"#506784\",\"showbackground\":true,\"ticks\":\"\",\"zerolinecolor\":\"#C8D4E3\",\"gridwidth\":2}},\"shapedefaults\":{\"line\":{\"color\":\"#f2f5fa\"}},\"annotationdefaults\":{\"arrowcolor\":\"#f2f5fa\",\"arrowhead\":0,\"arrowwidth\":1},\"geo\":{\"bgcolor\":\"rgb(17,17,17)\",\"landcolor\":\"rgb(17,17,17)\",\"subunitcolor\":\"#506784\",\"showland\":true,\"showlakes\":true,\"lakecolor\":\"rgb(17,17,17)\"},\"title\":{\"x\":0.05},\"updatemenudefaults\":{\"bgcolor\":\"#506784\",\"borderwidth\":0},\"sliderdefaults\":{\"bgcolor\":\"#C8D4E3\",\"borderwidth\":1,\"bordercolor\":\"rgb(17,17,17)\",\"tickwidth\":0},\"mapbox\":{\"style\":\"dark\"}}},\"xaxis\":{\"anchor\":\"y\",\"domain\":[0.0,1.0],\"title\":{\"text\":\"Year\"},\"dtick\":1},\"yaxis\":{\"anchor\":\"x\",\"domain\":[0.0,1.0],\"title\":{\"text\":\"# Grants\"}},\"legend\":{\"title\":{\"text\":\"Org Combo\"},\"tracegroupgap\":0},\"title\":{\"text\":\"Number of Grants per Year by Org Combo\"}},                        {\"responsive\": true}                    ).then(function(){\n",
       "                            \n",
       "var gd = document.getElementById('b7f8a5a6-8f57-4aef-9c60-7740568d04c1');\n",
       "var x = new MutationObserver(function (mutations, observer) {{\n",
       "        var display = window.getComputedStyle(gd).display;\n",
       "        if (!display || display === 'none') {{\n",
       "            console.log([gd, 'removed!']);\n",
       "            Plotly.purge(gd);\n",
       "            observer.disconnect();\n",
       "        }}\n",
       "}});\n",
       "\n",
       "// Listen for the removal of the full notebook cells\n",
       "var notebookContainer = gd.closest('#notebook-container');\n",
       "if (notebookContainer) {{\n",
       "    x.observe(notebookContainer, {childList: true});\n",
       "}}\n",
       "\n",
       "// Listen for the clearing of the current output cell\n",
       "var outputEl = gd.closest('.output');\n",
       "if (outputEl) {{\n",
       "    x.observe(outputEl, {childList: true});\n",
       "}}\n",
       "\n",
       "                        })                };                });            </script>        </div>"
      ]
     },
     "metadata": {},
     "output_type": "display_data"
    },
    {
     "name": "stdout",
     "output_type": "stream",
     "text": [
      "Saved grants_per_year_by_org_combo.html\n"
     ]
    }
   ],
   "execution_count": 12
  },
  {
   "metadata": {},
   "cell_type": "code",
   "outputs": [],
   "execution_count": null,
   "source": "",
   "id": "70eb76bdc7321739"
  }
 ],
 "metadata": {
  "kernelspec": {
   "display_name": "Python 3",
   "language": "python",
   "name": "python3"
  },
  "language_info": {
   "codemirror_mode": {
    "name": "ipython",
    "version": 2
   },
   "file_extension": ".py",
   "mimetype": "text/x-python",
   "name": "python",
   "nbconvert_exporter": "python",
   "pygments_lexer": "ipython2",
   "version": "2.7.6"
  }
 },
 "nbformat": 4,
 "nbformat_minor": 5
}
